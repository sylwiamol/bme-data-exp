{
 "cells": [
  {
   "cell_type": "code",
   "execution_count": 1,
   "metadata": {
    "collapsed": true
   },
   "outputs": [],
   "source": [
    "import wave\n",
    "import matplotlib.pyplot as plt\n",
    "import numpy as np\n",
    "import sys\n",
    "from numpy import loadtxt\n",
    "import re\n",
    "import glob\n",
    "\n",
    "## data = wave.open('266725_22_K_23_4.wav', 'r')\n",
    "#signal = data.readframes(-1)\n",
    "#signal = np.fromstring(signal, 'Int16')\n",
    "#plt.figure(1)\n",
    "#plt.title('Signal Wave...')\n",
    "#plt.plot(signal)\n",
    "#plt.show()\n",
    "\n",
    "#text_file = open(\"266725_22_K_23_4.txt\", \"r\")\n",
    "#print(text_file.read())\n",
    "\n",
    "#lines = text_file.read()\n",
    "#lines2=re.split('\\t|\\n', lines)\n",
    "#print (lines2)\n"
   ]
  },
  {
   "cell_type": "code",
   "execution_count": 1,
   "metadata": {
    "scrolled": true
   },
   "outputs": [
    {
     "name": "stdout",
     "output_type": "stream",
     "text": [
      "OTWORZ       1\n",
      "TELEWIZOR    1\n",
      "SWIATLO      1\n",
      "WYLACZ       1\n",
      "ROLETY       1\n",
      "ZAPAL        1\n",
      "MUZYKE       1\n",
      "PODNIES      1\n",
      "GARAZ        1\n",
      "ZAMKNIJ      1\n",
      "NASTROJ      1\n",
      "WLACZ        1\n",
      "ZROB         1\n",
      "Name: command, dtype: int64\n"
     ]
    },
    {
     "data": {
      "text/html": [
       "<div>\n",
       "<style>\n",
       "    .dataframe thead tr:only-child th {\n",
       "        text-align: right;\n",
       "    }\n",
       "\n",
       "    .dataframe thead th {\n",
       "        text-align: left;\n",
       "    }\n",
       "\n",
       "    .dataframe tbody tr th {\n",
       "        vertical-align: top;\n",
       "    }\n",
       "</style>\n",
       "<table border=\"1\" class=\"dataframe\">\n",
       "  <thead>\n",
       "    <tr style=\"text-align: right;\">\n",
       "      <th></th>\n",
       "      <th>command</th>\n",
       "      <th>data</th>\n",
       "    </tr>\n",
       "  </thead>\n",
       "  <tbody>\n",
       "    <tr>\n",
       "      <th>0</th>\n",
       "      <td>OTWORZ</td>\n",
       "      <td>[21009, 20629, 15838, 7352, -2604, -11554, -17...</td>\n",
       "    </tr>\n",
       "    <tr>\n",
       "      <th>1</th>\n",
       "      <td>ZAMKNIJ</td>\n",
       "      <td>[490, 433, 416, 411, 427, 411, 437, 452, 436, ...</td>\n",
       "    </tr>\n",
       "    <tr>\n",
       "      <th>2</th>\n",
       "      <td>GARAZ</td>\n",
       "      <td>[-5183, -4181, -2575, -778, 1087, 2813, 3733, ...</td>\n",
       "    </tr>\n",
       "    <tr>\n",
       "      <th>3</th>\n",
       "      <td>ZROB</td>\n",
       "      <td>[-209, -210, -260, -340, -347, -367, -389, -35...</td>\n",
       "    </tr>\n",
       "    <tr>\n",
       "      <th>4</th>\n",
       "      <td>NASTROJ</td>\n",
       "      <td>[466, 352, 150, 18, -64, -162, -111, -44, -228...</td>\n",
       "    </tr>\n",
       "    <tr>\n",
       "      <th>5</th>\n",
       "      <td>WLACZ</td>\n",
       "      <td>[-224, 8455, 17076, 23541, 26242, 24336, 17906...</td>\n",
       "    </tr>\n",
       "    <tr>\n",
       "      <th>6</th>\n",
       "      <td>WYLACZ</td>\n",
       "      <td>[467, 531, 521, 388, 321, 346, 371, 416, 465, ...</td>\n",
       "    </tr>\n",
       "    <tr>\n",
       "      <th>7</th>\n",
       "      <td>MUZYKE</td>\n",
       "      <td>[2015, 2237, 2534, 2976, 3633, 4370, 5143, 583...</td>\n",
       "    </tr>\n",
       "    <tr>\n",
       "      <th>8</th>\n",
       "      <td>SWIATLO</td>\n",
       "      <td>[1252, -1094, -3095, -4274, -4524, -4009, -282...</td>\n",
       "    </tr>\n",
       "    <tr>\n",
       "      <th>9</th>\n",
       "      <td>ZAPAL</td>\n",
       "      <td>[11, -32, -10, 42, 47, 74, 106, 134, 132, 101,...</td>\n",
       "    </tr>\n",
       "    <tr>\n",
       "      <th>10</th>\n",
       "      <td>PODNIES</td>\n",
       "      <td>[173, 166, 149, 123, 102, 115, 105, 113, 96, 2...</td>\n",
       "    </tr>\n",
       "    <tr>\n",
       "      <th>11</th>\n",
       "      <td>ROLETY</td>\n",
       "      <td>[1032, -7657, -14625, -18668, -18983, -15606, ...</td>\n",
       "    </tr>\n",
       "    <tr>\n",
       "      <th>12</th>\n",
       "      <td>TELEWIZOR</td>\n",
       "      <td>[415, 119, -127, -379, -987, -1455, -1431, -14...</td>\n",
       "    </tr>\n",
       "  </tbody>\n",
       "</table>\n",
       "</div>"
      ],
      "text/plain": [
       "      command                                               data\n",
       "0      OTWORZ  [21009, 20629, 15838, 7352, -2604, -11554, -17...\n",
       "1     ZAMKNIJ  [490, 433, 416, 411, 427, 411, 437, 452, 436, ...\n",
       "2       GARAZ  [-5183, -4181, -2575, -778, 1087, 2813, 3733, ...\n",
       "3        ZROB  [-209, -210, -260, -340, -347, -367, -389, -35...\n",
       "4     NASTROJ  [466, 352, 150, 18, -64, -162, -111, -44, -228...\n",
       "5       WLACZ  [-224, 8455, 17076, 23541, 26242, 24336, 17906...\n",
       "6      WYLACZ  [467, 531, 521, 388, 321, 346, 371, 416, 465, ...\n",
       "7      MUZYKE  [2015, 2237, 2534, 2976, 3633, 4370, 5143, 583...\n",
       "8     SWIATLO  [1252, -1094, -3095, -4274, -4524, -4009, -282...\n",
       "9       ZAPAL  [11, -32, -10, 42, 47, 74, 106, 134, 132, 101,...\n",
       "10    PODNIES  [173, 166, 149, 123, 102, 115, 105, 113, 96, 2...\n",
       "11     ROLETY  [1032, -7657, -14625, -18668, -18983, -15606, ...\n",
       "12  TELEWIZOR  [415, 119, -127, -379, -987, -1455, -1431, -14..."
      ]
     },
     "execution_count": 1,
     "metadata": {},
     "output_type": "execute_result"
    }
   ],
   "source": [
    "import glob\n",
    "import pandas as pd\n",
    "import scipy.io.wavfile as wav\n",
    "import csv\n",
    "\n",
    "pliki = glob.glob(\"/home/sylwia/bme-data-exp/Pliki/*.wav\")\n",
    "labelki = glob.glob(\"/home/sylwia/bme-data-exp/Pliki/*.txt\")\n",
    "\n",
    "#na podstawie: https://www.e-education.psu.edu/geog485/node/141\n",
    "data_list = list()\n",
    "command_list = list()\n",
    "\n",
    "for x in range (0, len(pliki)):\n",
    "    sample, data = wav.read(pliki[x], mmap=False)\n",
    "    labels = list(csv.reader(open(labelki[x], 'r'), delimiter='\\t'))\n",
    "\n",
    "\n",
    " # dzwiek jest stereo wiec uwzgledniamy tylko jeden kanal       \n",
    "for i in range (0,len(labels)):\n",
    "    data_list.append(data[int(float(labels[i][0])*44100)-1 : int(float(labels[i][1])*44100)+1, 0])\n",
    "    command_list.append(labels[i][2])\n",
    "        \n",
    "d = {'command': command_list, 'data': data_list}\n",
    "df = pd.DataFrame(data=d)\n",
    "\n",
    "print(df['command'].value_counts())\n",
    "\n",
    "df"
   ]
  },
  {
   "cell_type": "code",
   "execution_count": 10,
   "metadata": {},
   "outputs": [
    {
     "name": "stdout",
     "output_type": "stream",
     "text": [
      "  command                                               data\n",
      "0  OTWORZ  [21009, 20629, 15838, 7352, -2604, -11554, -17...\n",
      "0    [21009, 20629, 15838, 7352, -2604, -11554, -17...\n",
      "Name: data, dtype: object\n"
     ]
    }
   ],
   "source": [
    "otworz = df.loc[(df['command'] == 'OTWORZ')]\n",
    "zamknij = df.loc[(df['command'] == 'ZAMKNIJ')]\n",
    "garaz = df.loc[(df['command'] == 'GARAZ')]\n",
    "zrob = df.loc[(df['command'] == 'ZROB')]\n",
    "nastroj = df.loc[(df['command'] == 'NASTROJ')]\n",
    "wlacz = df.loc[(df['command'] == 'WLACZ')]\n",
    "wylacz = df.loc[(df['command'] == 'WYLACZ')]\n",
    "muzyke = df.loc[(df['command'] == 'MUZYKE')]\n",
    "swiatlo = df.loc[(df['command'] == 'SWIATLO')]\n",
    "zapal = df.loc[(df['command'] == 'ZAPAL')]\n",
    "podnies = df.loc[(df['command'] == 'PODNIES')]\n",
    "rolety = df.loc[(df['command'] == 'ROLETY')]\n",
    "telewizor = df.loc[(df['command'] == 'TELEWIZOR')]\n",
    "print (otworz)\n",
    "print(otworz['data'])"
   ]
  },
  {
   "cell_type": "code",
   "execution_count": null,
   "metadata": {
    "collapsed": true
   },
   "outputs": [],
   "source": []
  },
  {
   "cell_type": "code",
   "execution_count": null,
   "metadata": {
    "collapsed": true
   },
   "outputs": [],
   "source": []
  }
 ],
 "metadata": {
  "kernelspec": {
   "display_name": "Python 3",
   "language": "python",
   "name": "python3"
  },
  "language_info": {
   "codemirror_mode": {
    "name": "ipython",
    "version": 3
   },
   "file_extension": ".py",
   "mimetype": "text/x-python",
   "name": "python",
   "nbconvert_exporter": "python",
   "pygments_lexer": "ipython3",
   "version": "3.6.3"
  }
 },
 "nbformat": 4,
 "nbformat_minor": 2
}
