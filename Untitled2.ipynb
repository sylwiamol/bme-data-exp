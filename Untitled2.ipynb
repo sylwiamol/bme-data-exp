{
 "cells": [
  {
   "cell_type": "code",
   "execution_count": 11,
   "metadata": {},
   "outputs": [
    {
     "name": "stdout",
     "output_type": "stream",
     "text": [
      "[-102  -97 -105 ...,    4    4    4]\n",
      "280379\n"
     ]
    },
    {
     "data": {
      "image/png": "[encoded data removed]",
      "text/plain": [
       "<matplotlib.figure.Figure at 0x7f54b39c0470>"
      ]
     },
     "metadata": {},
     "output_type": "display_data"
    },
    {
     "name": "stdout",
     "output_type": "stream",
     "text": [
      "OTWORZ: -0.227978417028 77.506565307\n",
      "ZAMKNIJ: 0.155185402193 103.288604034\n",
      "GARAZ: 0.626313141775 114.220454503\n",
      "ZROB: -0.313319052419 131.885803253\n",
      "NASTROJ: -0.650484082475 140.580553663\n",
      "WLACZ: -0.486143381486 178.471262107\n",
      "WYLACZ: -0.699390005709 196.527501605\n",
      "MUZYKE: -0.565011345033 147.746554051\n",
      "SWIATLO: -1.0090234375 173.435901222\n",
      "ZAPAL: -0.980280208842 190.842378565\n",
      "PODNIES: -1.00875679547 206.853429057\n",
      "ROLETY: -1.51255836665 172.850576436\n",
      "TELEWIZOR: -0.773770150264 176.484170708\n"
     ]
    }
   ],
   "source": [
    "import matplotlib.pyplot as plt\n",
    "import numpy as np\n",
    "import wave\n",
    "import sys\n",
    "\n",
    "import scipy.io.wavfile\n",
    "import scipy.signal\n",
    "\n",
    "import re\n",
    "import scipy.io.wavfile\n",
    "import numpy as np\n",
    "\n",
    "# Returns python list of lists in format [beginning_time(int), end_time(int), word(string)]\n",
    "def parse_timestamps(filename):\n",
    "\n",
    "\ttimestamps_file = open(filename)\n",
    "\tlist_of_words = timestamps_file.readlines()\n",
    "\ttimestamps = list()\n",
    "\tfor i in list_of_words:\n",
    "\t    t = re.split('\\s+', i)\n",
    "\t    timestamps.append([float(t[0].replace(',', '.')), float(t[1].replace(',', '.')), t[2]])\n",
    "\ttimestamps_file.close()\n",
    "\treturn timestamps\n",
    "\n",
    "# returns signal (THE LEFT SIGNAL CHANNEL IF STEREO) and sampling frequency\n",
    "def get_signal_from_file(filename):\n",
    "    fs, signal = scipy.io.wavfile.read(filename)\n",
    "    if signal.ndim>1:\n",
    "        signal = signal[:,0]\n",
    "    return signal, fs\n",
    "\n",
    "# Get an envelope\n",
    "# Originally developed by C. Jarne from University of Quilmes (UNQ)\n",
    "# https://pdfs.semanticscholar.org/401b/10f76b1a9b668a5df0a829873aaf356ac27f.pdf\n",
    "# However, that code was just ugly\n",
    "\n",
    "def get_envelope(input_signal, interval_length):\n",
    "# Taking the absolute value\n",
    "\n",
    "    absolute_signal = abs(input_signal)\n",
    "\n",
    "    # Peak detection\n",
    "    output_signal = [absolute_signal[0]]\n",
    "    for base_index in range (1, interval_length):\n",
    "    \toutput_signal.append(np.amax(absolute_signal[0:base_index]))\n",
    "\n",
    "    for base_index in range (interval_length, len (absolute_signal)):\n",
    "        output_signal.append(np.amax(absolute_signal[base_index - interval_length : base_index]))\n",
    "\n",
    "    return output_signal\n",
    "#Extract Raw Audio from Wav File\n",
    "signal, fs = get_signal_from_file('266725_22_K_23_4.wav')\n",
    "print(signal)\n",
    "maximum=np.argmax(signal)\n",
    "print(maximum)\n",
    "#Parse Timestamps file into a proper list\n",
    "timestamps = parse_timestamps('266725_22_K_23_4.txt')\n",
    "\n",
    "plt.figure(1)\n",
    "plt.title('Signal Wave...')\n",
    "\n",
    "plt.plot(signal)\n",
    "plt.show()\n",
    "words=[]\n",
    "s_info = []\n",
    "if not words:\n",
    "    # pierwsze uzycie words\n",
    "    words = [x[2] for x in timestamps]\n",
    "for i in range(len(timestamps)):\n",
    "    beginning = int(fs*timestamps[i][0])\n",
    "    ending = int(fs*timestamps[i][1])\n",
    "\n",
    "    single_word = signal[beginning:ending]\n",
    "    #env = get_envelope(single_word, 250)\n",
    "    s=\"%s: %s %s\" % (words[i],  single_word.mean(), single_word.std())\n",
    "    s_info.append(s)\n",
    "   # plt.figure(2)\n",
    "   # plt.title('Single word')\n",
    "   # plt.plot(single_word)\n",
    "   # plt.plot(env)\n",
    "s_info = '\\n'.join(s_info)\n",
    "print(s_info)\n",
    "plt.show()"
   ]
  },
  {
   "cell_type": "code",
   "execution_count": null,
   "metadata": {
    "collapsed": true
   },
   "outputs": [],
   "source": []
  }
 ],
 "metadata": {
  "kernelspec": {
   "display_name": "Python 3",
   "language": "python",
   "name": "python3"
  },
  "language_info": {
   "codemirror_mode": {
    "name": "ipython",
    "version": 3
   },
   "file_extension": ".py",
   "mimetype": "text/x-python",
   "name": "python",
   "nbconvert_exporter": "python",
   "pygments_lexer": "ipython3",
   "version": "3.6.3"
  }
 },
 "nbformat": 4,
 "nbformat_minor": 2
}
