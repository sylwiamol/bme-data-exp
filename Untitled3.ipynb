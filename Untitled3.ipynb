{
 "cells": [
  {
   "cell_type": "code",
   "execution_count": 7,
   "metadata": {},
   "outputs": [
    {
     "ename": "ModuleNotFoundError",
     "evalue": "No module named 'pydub'",
     "output_type": "error",
     "traceback": [
      "\u001b[0;31m---------------------------------------------------------------------------\u001b[0m",
      "\u001b[0;31mModuleNotFoundError\u001b[0m                       Traceback (most recent call last)",
      "\u001b[0;32m<ipython-input-7-dc8a4f54f819>\u001b[0m in \u001b[0;36m<module>\u001b[0;34m()\u001b[0m\n\u001b[1;32m      9\u001b[0m \u001b[0;32mimport\u001b[0m \u001b[0mwave\u001b[0m\u001b[0;34m\u001b[0m\u001b[0m\n\u001b[1;32m     10\u001b[0m \u001b[0;32mimport\u001b[0m \u001b[0msys\u001b[0m\u001b[0;34m\u001b[0m\u001b[0m\n\u001b[0;32m---> 11\u001b[0;31m \u001b[0;32mfrom\u001b[0m \u001b[0mpydub\u001b[0m \u001b[0;32mimport\u001b[0m \u001b[0mAudioSegment\u001b[0m\u001b[0;34m\u001b[0m\u001b[0m\n\u001b[0m\u001b[1;32m     12\u001b[0m \u001b[0;34m\u001b[0m\u001b[0m\n\u001b[1;32m     13\u001b[0m \u001b[0;34m\u001b[0m\u001b[0m\n",
      "\u001b[0;31mModuleNotFoundError\u001b[0m: No module named 'pydub'"
     ]
    }
   ],
   "source": [
    "\n",
    "# coding: utf-8\n",
    "\n",
    "# In[2]:\n",
    "\n",
    "\n",
    "import matplotlib.pyplot as plt\n",
    "import numpy as np\n",
    "import wave\n",
    "import sys\n",
    "from pydub import AudioSegment\n",
    "\n",
    "\n",
    "spf = wave.open('/home/sylwia/bme-data-exp/Pliki/273356_23_K_13_1.wav','r')\n",
    "\n",
    "#Extract Raw Audio from Wav File\n",
    "signal = spf.readframes(-1)\n",
    "signal = np.fromstring(signal, 'Int16')\n",
    "\n",
    "\n",
    "#If Stereo\n",
    "if spf.getnchannels() == 2:\n",
    "    print ('Just mono files')\n",
    "    sys.exit(0)\n",
    "\n",
    "plt.figure(1)\n",
    "plt.title('Signal Wave...')\n",
    "plt.plot(signal)\n",
    "plt.show()\n",
    "\n",
    "\n",
    "# In[9]:\n",
    "\n",
    "\n",
    "\n",
    "path='/home/sylwia/bme-data-exp/Pliki/273356_23_K_13_1.wav'      \n",
    "a = open(path,\"r\")\n",
    "b = a.readlines()\n",
    "a.close()\n",
    "path_word=['otworz.wav', 'zamknij.wav', 'zrob.wav', 'nastroj.wav', 'wlacz.wav', 'wylacz.wav', 'muzyke.wav', 'swiatlo.wav', 'zapal.wav', 'podnies.wav', 'rolety.wav', 'telewizor.wav']\n",
    "\n",
    "count = -1\n",
    "for line in b:\n",
    "    count += 1\n",
    "    if count >= 0:      \n",
    "        d = b[count].split()\n",
    "        print (d)\n",
    "        t1=d[0]\n",
    "        t2=d[1]\n",
    "        t1=float(t1)\n",
    "        t2=float(t2)\n",
    "        t1=t1*1000 # works in miliseconds\n",
    "        t2=t2*1000\n",
    "        print (t1)\n",
    "        print (t2)\n",
    " \n",
    "   \n",
    "    newAudio = AudioSegment.from_wav(\"266711_23_K_23_1.wav\")\n",
    "    newAudio = newAudio[t1:t2]\n",
    "    \n",
    "    newAudio.export(d[2], format=\"wav\")\n"
   ]
  },
  {
   "cell_type": "code",
   "execution_count": null,
   "metadata": {
    "collapsed": true
   },
   "outputs": [],
   "source": []
  }
 ],
 "metadata": {
  "kernelspec": {
   "display_name": "Python 3",
   "language": "python",
   "name": "python3"
  },
  "language_info": {
   "codemirror_mode": {
    "name": "ipython",
    "version": 3
   },
   "file_extension": ".py",
   "mimetype": "text/x-python",
   "name": "python",
   "nbconvert_exporter": "python",
   "pygments_lexer": "ipython3",
   "version": "3.6.3"
  }
 },
 "nbformat": 4,
 "nbformat_minor": 2
}
